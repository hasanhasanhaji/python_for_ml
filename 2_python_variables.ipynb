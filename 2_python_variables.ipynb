{
 "cells": [
  {
   "cell_type": "markdown",
   "id": "88a86c74",
   "metadata": {},
   "source": [
    "### Python variables"
   ]
  },
  {
   "cell_type": "code",
   "execution_count": 3,
   "id": "7fcbac77",
   "metadata": {},
   "outputs": [],
   "source": [
    "# Declaring and assing variables\n",
    "age = 30  ## Define an integer value\n",
    "name = \"Hassan\"\n",
    "is_teacher = True ## a boolean value"
   ]
  },
  {
   "cell_type": "code",
   "execution_count": 8,
   "id": "b92ead7f",
   "metadata": {},
   "outputs": [
    {
     "name": "stdout",
     "output_type": "stream",
     "text": [
      "The teacher name is: Hassan\n"
     ]
    }
   ],
   "source": [
    "## print the variables\n",
    "print(\"The teacher name is:\",name)"
   ]
  },
  {
   "cell_type": "code",
   "execution_count": null,
   "id": "a067c8a2",
   "metadata": {},
   "outputs": [],
   "source": [
    "## Naming Convensions\n",
    "## Variables name must be descriptive\n",
    "## They should start with letter or _ and only can have letters, numbers and underscore _\n",
    "## variable names are case sensitive\n",
    "\n",
    "## Example of valid names\n",
    "first_name = \"Hassan\"\n",
    "number = \"_1234\"\n"
   ]
  },
  {
   "cell_type": "code",
   "execution_count": 10,
   "id": "239b88e2",
   "metadata": {},
   "outputs": [
    {
     "ename": "SyntaxError",
     "evalue": "invalid decimal literal (604803949.py, line 2)",
     "output_type": "error",
     "traceback": [
      "  \u001b[36mCell\u001b[39m\u001b[36m \u001b[39m\u001b[32mIn[10]\u001b[39m\u001b[32m, line 2\u001b[39m\n\u001b[31m    \u001b[39m\u001b[31m2age = 30\u001b[39m\n    ^\n\u001b[31mSyntaxError\u001b[39m\u001b[31m:\u001b[39m invalid decimal literal\n"
     ]
    }
   ],
   "source": [
    "## Invalid variable name\n",
    "2age = 30"
   ]
  },
  {
   "cell_type": "code",
   "execution_count": 11,
   "id": "e3dff5a6",
   "metadata": {},
   "outputs": [
    {
     "name": "stdout",
     "output_type": "stream",
     "text": [
      "Ali\n"
     ]
    }
   ],
   "source": [
    "## Examine case sensitivity\n",
    "name = \"Hassan\"\n",
    "Name = \"Ali\"\n",
    "print(Name)"
   ]
  },
  {
   "cell_type": "code",
   "execution_count": 12,
   "id": "6e392f31",
   "metadata": {},
   "outputs": [
    {
     "data": {
      "text/plain": [
       "int"
      ]
     },
     "execution_count": 12,
     "metadata": {},
     "output_type": "execute_result"
    }
   ],
   "source": [
    "## Variable types\n",
    "## python is a dynamically type == it determine at runtime\n",
    "age = 25\n",
    "type(age)\n"
   ]
  },
  {
   "cell_type": "code",
   "execution_count": 18,
   "id": "e8544b6a",
   "metadata": {},
   "outputs": [
    {
     "data": {
      "text/plain": [
       "str"
      ]
     },
     "execution_count": 18,
     "metadata": {},
     "output_type": "execute_result"
    }
   ],
   "source": [
    "name = \"Hassan\"\n",
    "type(name)"
   ]
  },
  {
   "cell_type": "code",
   "execution_count": 17,
   "id": "21071790",
   "metadata": {},
   "outputs": [
    {
     "data": {
      "text/plain": [
       "float"
      ]
     },
     "execution_count": 17,
     "metadata": {},
     "output_type": "execute_result"
    }
   ],
   "source": [
    "s = 12.3\n",
    "type(s)"
   ]
  },
  {
   "cell_type": "code",
   "execution_count": 19,
   "id": "5d3dac4f",
   "metadata": {},
   "outputs": [
    {
     "name": "stdout",
     "output_type": "stream",
     "text": [
      "<class 'bool'>\n"
     ]
    }
   ],
   "source": [
    "x = True\n",
    "print(type(x))"
   ]
  },
  {
   "cell_type": "code",
   "execution_count": 22,
   "id": "8c169c81",
   "metadata": {},
   "outputs": [
    {
     "name": "stdout",
     "output_type": "stream",
     "text": [
      "25\n",
      "<class 'int'>\n",
      "*****************\n",
      "25.0\n",
      "<class 'float'>\n"
     ]
    }
   ],
   "source": [
    "## Type checking and Conversion\n",
    "age = 25\n",
    "print(age)\n",
    "print(type(age))\n",
    "print (\"*****************\")\n",
    "new_age = float(age)\n",
    "print(new_age)\n",
    "print(type(new_age))\n"
   ]
  },
  {
   "cell_type": "code",
   "execution_count": 23,
   "id": "9ee77619",
   "metadata": {},
   "outputs": [
    {
     "ename": "ValueError",
     "evalue": "invalid literal for int() with base 10: 'hassan'",
     "output_type": "error",
     "traceback": [
      "\u001b[31m---------------------------------------------------------------------------\u001b[39m",
      "\u001b[31mValueError\u001b[39m                                Traceback (most recent call last)",
      "\u001b[36mCell\u001b[39m\u001b[36m \u001b[39m\u001b[32mIn[23]\u001b[39m\u001b[32m, line 3\u001b[39m\n\u001b[32m      1\u001b[39m \u001b[38;5;66;03m## error in type conversion\u001b[39;00m\n\u001b[32m      2\u001b[39m x = \u001b[33m\"\u001b[39m\u001b[33mhassan\u001b[39m\u001b[33m\"\u001b[39m\n\u001b[32m----> \u001b[39m\u001b[32m3\u001b[39m \u001b[38;5;28;43mint\u001b[39;49m\u001b[43m(\u001b[49m\u001b[43mx\u001b[49m\u001b[43m)\u001b[49m\n",
      "\u001b[31mValueError\u001b[39m: invalid literal for int() with base 10: 'hassan'"
     ]
    }
   ],
   "source": [
    "## error in type conversion\n",
    "x = \"hassan\"\n",
    "int(x)"
   ]
  },
  {
   "cell_type": "code",
   "execution_count": 24,
   "id": "9c90eb7b",
   "metadata": {},
   "outputs": [
    {
     "name": "stdout",
     "output_type": "stream",
     "text": [
      "<class 'int'>\n",
      "<class 'str'>\n"
     ]
    }
   ],
   "source": [
    "## Dynamic Typing\n",
    "x = 10\n",
    "print(type(x))\n",
    "x = \"hassan\"\n",
    "print(type(x))"
   ]
  },
  {
   "cell_type": "code",
   "execution_count": 25,
   "id": "0ee75d55",
   "metadata": {},
   "outputs": [
    {
     "name": "stdout",
     "output_type": "stream",
     "text": [
      "25 <class 'int'>\n"
     ]
    }
   ],
   "source": [
    "## input \n",
    "\n",
    "x = int(input('INPUT YOUR AGE'))\n",
    "print(x, type(x))"
   ]
  },
  {
   "cell_type": "code",
   "execution_count": 27,
   "id": "1067a023",
   "metadata": {},
   "outputs": [
    {
     "name": "stdout",
     "output_type": "stream",
     "text": [
      "Sum is: 50\n",
      "Diff is : 20\n"
     ]
    }
   ],
   "source": [
    "##         Create a simple calculator\n",
    "\n",
    "first_num = int(input(\"Please input first number!\"))\n",
    "second_num = int(input(\"Please input second number!\"))\n",
    "\n",
    "sum = first_num + second_num\n",
    "diff = first_num - second_num\n",
    "print(\"Sum is:\" , sum)\n",
    "print(\"Diff is :\", diff)"
   ]
  }
 ],
 "metadata": {
  "kernelspec": {
   "display_name": "Python 3",
   "language": "python",
   "name": "python3"
  },
  "language_info": {
   "codemirror_mode": {
    "name": "ipython",
    "version": 3
   },
   "file_extension": ".py",
   "mimetype": "text/x-python",
   "name": "python",
   "nbconvert_exporter": "python",
   "pygments_lexer": "ipython3",
   "version": "3.13.9"
  }
 },
 "nbformat": 4,
 "nbformat_minor": 5
}
