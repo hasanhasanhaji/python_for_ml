{
 "cells": [
  {
   "cell_type": "markdown",
   "id": "2ba2f24e",
   "metadata": {},
   "source": [
    "# Pyhton Syntax and Semantic"
   ]
  },
  {
   "cell_type": "code",
   "execution_count": 1,
   "id": "c329eddd",
   "metadata": {},
   "outputs": [],
   "source": [
    "## we show coments with # at the start of the sentence like this."
   ]
  },
  {
   "cell_type": "code",
   "execution_count": 5,
   "id": "32d5c72b",
   "metadata": {},
   "outputs": [
    {
     "name": "stdout",
     "output_type": "stream",
     "text": [
      "Hassan\n",
      "Ali\n"
     ]
    }
   ],
   "source": [
    "## Case Sensitivity - This language cares about case sensitivity\n",
    "name = 'Hassan' # its not the same Name \n",
    "Name = 'Ali'\n",
    "print(name)\n",
    "print(Name)"
   ]
  },
  {
   "cell_type": "code",
   "execution_count": 9,
   "id": "34f5fa29",
   "metadata": {},
   "outputs": [],
   "source": [
    "# Indentation تو رفتگی\n",
    "# In python there is no need fot {} to show blocks. We use Indentation Instead\n",
    "# for example\n",
    "age = 10\n",
    "if age > 18:\n",
    "    print(\"hi\") # we use indentation to show the block for this if\n",
    "                # in c# we have used {} to show blocks."
   ]
  },
  {
   "cell_type": "code",
   "execution_count": 10,
   "id": "2aeef26f",
   "metadata": {},
   "outputs": [
    {
     "name": "stdout",
     "output_type": "stream",
     "text": [
      "10\n"
     ]
    }
   ],
   "source": [
    "## line continuation\n",
    "result = 1 + 2 + 3 + \\\n",
    "    4 \n",
    "print(result)"
   ]
  },
  {
   "cell_type": "code",
   "execution_count": 11,
   "id": "9f852157",
   "metadata": {},
   "outputs": [
    {
     "name": "stdout",
     "output_type": "stream",
     "text": [
      "10\n"
     ]
    }
   ],
   "source": [
    "## multiple statements on a single line\n",
    "x = 10 ; y = 19\n",
    "print(x)"
   ]
  },
  {
   "cell_type": "code",
   "execution_count": 14,
   "id": "dc8c288e",
   "metadata": {},
   "outputs": [
    {
     "name": "stdout",
     "output_type": "stream",
     "text": [
      "<class 'str'>\n",
      "<class 'int'>\n"
     ]
    }
   ],
   "source": [
    "## variable assignment\n",
    "age = 32  ## the intrepreter defines it as an integer value.\n",
    "name = \"Hassan\" # same for string\n",
    "print(type(name)) ## show the type of our variable\n",
    "print(type(age)) ## show the type of our variable"
   ]
  },
  {
   "cell_type": "code",
   "execution_count": 16,
   "id": "6d22a88e",
   "metadata": {},
   "outputs": [
    {
     "ename": "IndentationError",
     "evalue": "expected an indented block after 'if' statement on line 3 (1365295547.py, line 4)",
     "output_type": "error",
     "traceback": [
      "  \u001b[36mCell\u001b[39m\u001b[36m \u001b[39m\u001b[32mIn[16]\u001b[39m\u001b[32m, line 4\u001b[39m\n\u001b[31m    \u001b[39m\u001b[31mprint(\"Hi\")\u001b[39m\n    ^\n\u001b[31mIndentationError\u001b[39m\u001b[31m:\u001b[39m expected an indented block after 'if' statement on line 3\n"
     ]
    }
   ],
   "source": [
    "## show an error\n",
    "height = 185\n",
    "if height > 190: # You must fix this error\n",
    "print(\"Hi\")"
   ]
  },
  {
   "cell_type": "code",
   "execution_count": 17,
   "id": "f1b711e1",
   "metadata": {},
   "outputs": [
    {
     "ename": "NameError",
     "evalue": "name 'height' is not defined",
     "output_type": "error",
     "traceback": [
      "\u001b[31m---------------------------------------------------------------------------\u001b[39m",
      "\u001b[31mNameError\u001b[39m                                 Traceback (most recent call last)",
      "\u001b[36mCell\u001b[39m\u001b[36m \u001b[39m\u001b[32mIn[17]\u001b[39m\u001b[32m, line 2\u001b[39m\n\u001b[32m      1\u001b[39m \u001b[38;5;66;03m## Name Error\u001b[39;00m\n\u001b[32m----> \u001b[39m\u001b[32m2\u001b[39m age = \u001b[43mheight\u001b[49m\n",
      "\u001b[31mNameError\u001b[39m: name 'height' is not defined"
     ]
    }
   ],
   "source": [
    "## Name Error\n",
    "age = height"
   ]
  },
  {
   "cell_type": "code",
   "execution_count": null,
   "id": "8a7b76cd",
   "metadata": {},
   "outputs": [],
   "source": []
  }
 ],
 "metadata": {
  "kernelspec": {
   "display_name": "Python 3",
   "language": "python",
   "name": "python3"
  },
  "language_info": {
   "codemirror_mode": {
    "name": "ipython",
    "version": 3
   },
   "file_extension": ".py",
   "mimetype": "text/x-python",
   "name": "python",
   "nbconvert_exporter": "python",
   "pygments_lexer": "ipython3",
   "version": "3.13.9"
  }
 },
 "nbformat": 4,
 "nbformat_minor": 5
}
