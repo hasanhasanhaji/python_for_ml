{
 "cells": [
  {
   "cell_type": "markdown",
   "id": "0aec972c",
   "metadata": {},
   "source": [
    "## Condition in py"
   ]
  },
  {
   "cell_type": "code",
   "execution_count": 1,
   "id": "694d6ac7",
   "metadata": {},
   "outputs": [
    {
     "name": "stdout",
     "output_type": "stream",
     "text": [
      "You are in if statements.\n"
     ]
    }
   ],
   "source": [
    "## if statements\n",
    "age = 20\n",
    "\n",
    "if age > 10:\n",
    "    print(\"You are in if statements.\")"
   ]
  },
  {
   "cell_type": "code",
   "execution_count": 2,
   "id": "e6f0f930",
   "metadata": {},
   "outputs": [
    {
     "name": "stdout",
     "output_type": "stream",
     "text": [
      "you are in else \n"
     ]
    }
   ],
   "source": [
    "## else\n",
    "## if statements\n",
    "age = 20\n",
    "\n",
    "if age > 25:\n",
    "    print(\"You are in if statements.\")\n",
    "else:\n",
    "    print(\"you are in else \")"
   ]
  },
  {
   "cell_type": "code",
   "execution_count": 8,
   "id": "70619901",
   "metadata": {},
   "outputs": [
    {
     "name": "stdout",
     "output_type": "stream",
     "text": [
      "You are kid\n"
     ]
    }
   ],
   "source": [
    "## elif\n",
    "age = 16\n",
    "\n",
    "if age >= 20:\n",
    "    print(\"You are young\")\n",
    "elif  10 < age <20 :\n",
    "    print(\"You are kid\")\n",
    "else:\n",
    "    print(\"You are child!\")"
   ]
  },
  {
   "cell_type": "code",
   "execution_count": 10,
   "id": "418703db",
   "metadata": {},
   "outputs": [
    {
     "name": "stdout",
     "output_type": "stream",
     "text": [
      "The number is positive.\n",
      "The number is odd.\n"
     ]
    }
   ],
   "source": [
    "## Nested conditional statemenrs\n",
    "num = int(input(\"Enter a number :\"))\n",
    "if num >= 0:\n",
    "    print(\"The number is positive.\")\n",
    "    if (num%2 == 0):\n",
    "        print(\"The number is even.\")\n",
    "    else:\n",
    "        print(\"The number is odd.\")\n",
    "else:\n",
    "    print(\"The number is negative or Zero!\")"
   ]
  }
 ],
 "metadata": {
  "kernelspec": {
   "display_name": "Python 3",
   "language": "python",
   "name": "python3"
  },
  "language_info": {
   "codemirror_mode": {
    "name": "ipython",
    "version": 3
   },
   "file_extension": ".py",
   "mimetype": "text/x-python",
   "name": "python",
   "nbconvert_exporter": "python",
   "pygments_lexer": "ipython3",
   "version": "3.13.9"
  }
 },
 "nbformat": 4,
 "nbformat_minor": 5
}
