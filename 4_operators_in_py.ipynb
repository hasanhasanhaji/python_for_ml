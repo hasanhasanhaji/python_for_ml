{
 "cells": [
  {
   "cell_type": "markdown",
   "id": "a564c60c",
   "metadata": {},
   "source": [
    "# Operators in py"
   ]
  },
  {
   "cell_type": "code",
   "execution_count": 2,
   "id": "c859ce3e",
   "metadata": {},
   "outputs": [
    {
     "name": "stdout",
     "output_type": "stream",
     "text": [
      "26\n",
      "2\n",
      "168\n",
      "1.1666666666666667\n",
      "1\n",
      "2\n",
      "56693912375296\n"
     ]
    }
   ],
   "source": [
    "## Arithmatic ops\n",
    "a = 14\n",
    "b = 12\n",
    "add_res = a + b\n",
    "sub_res = a - b\n",
    "mul_res = a * b\n",
    "div_res = a / b\n",
    "floor_div_res = a // b\n",
    "modules_res = a % b  ## baghimande\n",
    "power_res = a ** b ## tavan\n",
    "\n",
    "print(add_res)\n",
    "print(sub_res)\n",
    "print(mul_res)\n",
    "print(div_res)\n",
    "print(floor_div_res)\n",
    "print(modules_res)\n",
    "print(power_res)"
   ]
  },
  {
   "cell_type": "code",
   "execution_count": 8,
   "id": "eb43e8f1",
   "metadata": {},
   "outputs": [
    {
     "name": "stdout",
     "output_type": "stream",
     "text": [
      "False\n",
      "False\n",
      "True\n",
      "True\n",
      "True\n",
      "True\n"
     ]
    }
   ],
   "source": [
    "## Comparition oprs\n",
    "a = 10\n",
    "b = 12\n",
    "print(a > b)\n",
    "print( a == b)\n",
    "print(b > a)\n",
    "print(b >= a)\n",
    "print (a != b)\n",
    "print (a < b)"
   ]
  },
  {
   "cell_type": "code",
   "execution_count": 11,
   "id": "d769e35d",
   "metadata": {},
   "outputs": [
    {
     "data": {
      "text/plain": [
       "False"
      ]
     },
     "execution_count": 11,
     "metadata": {},
     "output_type": "execute_result"
    }
   ],
   "source": [
    "## Logical ops   AND, OR, NOT\n",
    "x = True\n",
    "y = False\n",
    "result = x and y\n",
    "result\n"
   ]
  },
  {
   "cell_type": "code",
   "execution_count": 12,
   "id": "74e0ff74",
   "metadata": {},
   "outputs": [
    {
     "data": {
      "text/plain": [
       "True"
      ]
     },
     "execution_count": 12,
     "metadata": {},
     "output_type": "execute_result"
    }
   ],
   "source": [
    "x or y"
   ]
  },
  {
   "cell_type": "code",
   "execution_count": 14,
   "id": "f50123a4",
   "metadata": {},
   "outputs": [
    {
     "name": "stdout",
     "output_type": "stream",
     "text": [
      "False\n",
      "True\n"
     ]
    }
   ],
   "source": [
    "print(not x)\n",
    "print(not y)"
   ]
  },
  {
   "cell_type": "code",
   "execution_count": null,
   "id": "fffb2319",
   "metadata": {},
   "outputs": [],
   "source": []
  }
 ],
 "metadata": {
  "kernelspec": {
   "display_name": "Python 3",
   "language": "python",
   "name": "python3"
  },
  "language_info": {
   "codemirror_mode": {
    "name": "ipython",
    "version": 3
   },
   "file_extension": ".py",
   "mimetype": "text/x-python",
   "name": "python",
   "nbconvert_exporter": "python",
   "pygments_lexer": "ipython3",
   "version": "3.13.9"
  }
 },
 "nbformat": 4,
 "nbformat_minor": 5
}
